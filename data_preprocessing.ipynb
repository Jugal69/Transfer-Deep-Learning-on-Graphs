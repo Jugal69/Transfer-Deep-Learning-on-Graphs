{
  "nbformat": 4,
  "nbformat_minor": 0,
  "metadata": {
    "colab": {
      "name": "data_preprocessing.ipynb",
      "version": "0.3.2",
      "provenance": [],
      "collapsed_sections": []
    },
    "kernelspec": {
      "name": "python3",
      "display_name": "Python 3"
    },
    "accelerator": "GPU"
  },
  "cells": [
    {
      "cell_type": "markdown",
      "metadata": {
        "id": "HuWKFkKNaxeT",
        "colab_type": "text"
      },
      "source": [
        "References:\n",
        "\n",
        "https://www.analyticsvidhya.com/blog/2018/07/hands-on-sentiment-analysis-dataset-python/\n",
        "\n",
        "https://machinelearningmastery.com/clean-text-machine-learning-python/\n",
        "\n"
      ]
    },
    {
      "cell_type": "code",
      "metadata": {
        "id": "kEW3xH7_RVfQ",
        "colab_type": "code",
        "colab": {}
      },
      "source": [
        "# !pip install pandas\n",
        "# !pip install numpy\n",
        "# !pip install nltk\n",
        "# !pip install gensim"
      ],
      "execution_count": 0,
      "outputs": []
    },
    {
      "cell_type": "code",
      "metadata": {
        "id": "voOtdUZBRiqg",
        "colab_type": "code",
        "outputId": "034017a7-bc3f-4e2e-e58e-e53d6d3ec614",
        "colab": {
          "base_uri": "https://localhost:8080/",
          "height": 91
        }
      },
      "source": [
        "import pandas as pd\n",
        "import numpy as np\n",
        "import nltk\n",
        "import re\n",
        "import string\n",
        "from nltk import sent_tokenize\n",
        "from nltk.tokenize import word_tokenize\n",
        "from nltk.corpus import stopwords\n",
        "from nltk.tokenize import RegexpTokenizer\n",
        "from nltk.stem.porter import PorterStemmer\n",
        "from nltk.stem import WordNetLemmatizer\n",
        "from gensim.models import Word2Vec\n",
        "from wordcloud import WordCloud\n",
        "import matplotlib.pyplot as plt"
      ],
      "execution_count": 0,
      "outputs": [
        {
          "output_type": "stream",
          "text": [
            "/usr/local/lib/python3.6/dist-packages/smart_open/ssh.py:34: UserWarning: paramiko missing, opening SSH/SCP/SFTP paths will be disabled.  `pip install paramiko` to suppress\n",
            "  warnings.warn('paramiko missing, opening SSH/SCP/SFTP paths will be disabled.  `pip install paramiko` to suppress')\n"
          ],
          "name": "stderr"
        }
      ]
    },
    {
      "cell_type": "code",
      "metadata": {
        "id": "GMraiMyMFEGu",
        "colab_type": "code",
        "outputId": "8f84a500-519a-44e6-f257-d5b8324bfb01",
        "colab": {
          "base_uri": "https://localhost:8080/",
          "height": 189
        }
      },
      "source": [
        "from google.colab import drive\n",
        "drive.mount('/content/gdrive')\n",
        "directory='/content/gdrive/My Drive/Masters/DeepLearning/Project/Data'"
      ],
      "execution_count": 0,
      "outputs": [
        {
          "output_type": "stream",
          "text": [
            "Go to this URL in a browser: https://accounts.google.com/o/oauth2/auth?client_id=947318989803-6bn6qk8qdgf4n4g3pfee6491hc0brc4i.apps.googleusercontent.com&redirect_uri=urn%3Aietf%3Awg%3Aoauth%3A2.0%3Aoob&scope=email%20https%3A%2F%2Fwww.googleapis.com%2Fauth%2Fdocs.test%20https%3A%2F%2Fwww.googleapis.com%2Fauth%2Fdrive%20https%3A%2F%2Fwww.googleapis.com%2Fauth%2Fdrive.photos.readonly%20https%3A%2F%2Fwww.googleapis.com%2Fauth%2Fpeopleapi.readonly&response_type=code\n",
            "\n",
            "Enter your authorization code:\n",
            "··········\n",
            "Mounted at /content/gdrive\n"
          ],
          "name": "stdout"
        }
      ]
    },
    {
      "cell_type": "code",
      "metadata": {
        "id": "-7fUR-7cRord",
        "colab_type": "code",
        "outputId": "7018bf82-c541-45d5-c006-8e9910ec0504",
        "colab": {
          "base_uri": "https://localhost:8080/",
          "height": 68
        }
      },
      "source": [
        "nltk.download('punkt')"
      ],
      "execution_count": 0,
      "outputs": [
        {
          "output_type": "stream",
          "text": [
            "[nltk_data] Downloading package punkt to /root/nltk_data...\n",
            "[nltk_data]   Unzipping tokenizers/punkt.zip.\n"
          ],
          "name": "stdout"
        },
        {
          "output_type": "execute_result",
          "data": {
            "text/plain": [
              "True"
            ]
          },
          "metadata": {
            "tags": []
          },
          "execution_count": 4
        }
      ]
    },
    {
      "cell_type": "code",
      "metadata": {
        "id": "rppMstdZR4ef",
        "colab_type": "code",
        "outputId": "aaf7e946-572c-4150-c1a1-a2087f959c29",
        "colab": {
          "base_uri": "https://localhost:8080/",
          "height": 68
        }
      },
      "source": [
        "nltk.download('stopwords')"
      ],
      "execution_count": 0,
      "outputs": [
        {
          "output_type": "stream",
          "text": [
            "[nltk_data] Downloading package stopwords to /root/nltk_data...\n",
            "[nltk_data]   Unzipping corpora/stopwords.zip.\n"
          ],
          "name": "stdout"
        },
        {
          "output_type": "execute_result",
          "data": {
            "text/plain": [
              "True"
            ]
          },
          "metadata": {
            "tags": []
          },
          "execution_count": 5
        }
      ]
    },
    {
      "cell_type": "code",
      "metadata": {
        "id": "jVZz_UuTR6vU",
        "colab_type": "code",
        "colab": {}
      },
      "source": [
        "def cleanArticles(data):\n",
        "  sentences = []\n",
        "  data = data.str.replace(\"[^a-zA-Z#]\", \" \")\n",
        "  for text in data:\n",
        "    # remove special characters, numbers, punctuations\n",
        "    \n",
        "    cleanText = text.translate(str.maketrans('', '', string.punctuation))\n",
        "    tokens = word_tokenize(cleanText)\n",
        "    # remove all tokens that are not alphabetic\n",
        "    words = [word for word in tokens if word.isalpha()]\n",
        "    # stemming of words\n",
        "    porter = PorterStemmer()\n",
        "    stemmed = [porter.stem(word) for word in tokens]\n",
        "    stop_words = stopwords.words('english')\n",
        "    words = [w for w in stemmed if w not in stop_words and len(w)>2]\n",
        "    sentences.append(words)\n",
        "  return sentences"
      ],
      "execution_count": 0,
      "outputs": []
    },
    {
      "cell_type": "code",
      "metadata": {
        "id": "fwITzVb_R-oG",
        "colab_type": "code",
        "colab": {}
      },
      "source": [
        "def remove_pattern(input_txt, pattern):\n",
        "    r = re.findall(pattern, input_txt)\n",
        "    for i in r:\n",
        "        input_txt = re.sub(i, '', input_txt)        \n",
        "    return input_txt    \n",
        "\n",
        "def cleanTweets(data):\n",
        "  tweets = []\n",
        "  # remove twitter handles (@user)\n",
        "  combi = pd.Series(np.vectorize(remove_pattern)(data['text'], \"@[\\w]*\"))\n",
        "  # remove special characters, numbers, punctuations\n",
        "  combi = combi.str.replace(\"[^a-zA-Z#]\", \" \")\n",
        "  # remove short words\n",
        "  combi = combi.apply(lambda x: ' '.join([w for w in x.split() if len(w)>3]))\n",
        "  tokenized_tweet = combi.apply(lambda x: x.split())\n",
        "  stemmer = PorterStemmer()\n",
        "  tokenized_tweet = tokenized_tweet.apply(lambda x: [stemmer.stem(i) for i in x])\n",
        "  for i in range(len(tokenized_tweet)):\n",
        "    tokenized_tweet[i] = ' '.join(tokenized_tweet[i])\n",
        "  combi = tokenized_tweet\n",
        "  return combi"
      ],
      "execution_count": 0,
      "outputs": []
    },
    {
      "cell_type": "code",
      "metadata": {
        "id": "kbiC_oxGSAGM",
        "colab_type": "code",
        "colab": {}
      },
      "source": [
        "def wordCloud(data):\n",
        "  all_words = ' '.join([text for text in data])\n",
        "  wordcloud = WordCloud(width=800, height=500, random_state=21, max_font_size=110).generate(all_words)\n",
        "\n",
        "  plt.figure(figsize=(10, 7))\n",
        "  plt.imshow(wordcloud, interpolation=\"bilinear\")\n",
        "  plt.axis('off')\n",
        "  plt.show()"
      ],
      "execution_count": 0,
      "outputs": []
    },
    {
      "cell_type": "code",
      "metadata": {
        "id": "nrg67uD4aqe7",
        "colab_type": "code",
        "colab": {}
      },
      "source": [
        "comb_df = pd.read_csv(directory+\"/Combined_News_DJIA.csv\")\n",
        "stock_df = pd.read_csv(directory+\"/DJIA_table.csv\")\n",
        "reddit_df = pd.read_csv(directory+\"/RedditNews.csv\")\n",
        "demo_df = pd.read_csv(directory+\"/demonetization-tweets.csv\", encoding = 'unicode_escape')"
      ],
      "execution_count": 0,
      "outputs": []
    },
    {
      "cell_type": "code",
      "metadata": {
        "id": "LCJBUk409qJZ",
        "colab_type": "code",
        "colab": {}
      },
      "source": [
        "stock_df['Date'] = pd.to_datetime(stock_df['Date'])"
      ],
      "execution_count": 0,
      "outputs": []
    },
    {
      "cell_type": "code",
      "metadata": {
        "id": "cAKvxpcA7L_Q",
        "colab_type": "code",
        "colab": {}
      },
      "source": [
        "stock_df = stock_df.sort_values(by='Date',ascending=True)\n",
        "stock_df = stock_df.reset_index()"
      ],
      "execution_count": 0,
      "outputs": []
    },
    {
      "cell_type": "code",
      "metadata": {
        "id": "1neae8x37WL-",
        "colab_type": "code",
        "outputId": "887be7c1-c7e7-475b-d101-46a786fa532e",
        "colab": {
          "base_uri": "https://localhost:8080/",
          "height": 51
        }
      },
      "source": [
        "percentage_change = [0]\n",
        "for i in range(1,len(stock_df)):\n",
        "  percentage_change.append(100*abs(stock_df['Open'][i]-stock_df['Open'][i-1])/stock_df['Open'][i-1])\n",
        "median_change = np.median(percentage_change)\n",
        "change = [0]\n",
        "for i in range(1,len(percentage_change)):\n",
        "  change.append(0 if percentage_change[i]< median_change else 1)\n",
        "print(change.count(0))\n",
        "print(change.count(1))"
      ],
      "execution_count": 0,
      "outputs": [
        {
          "output_type": "stream",
          "text": [
            "994\n",
            "995\n"
          ],
          "name": "stdout"
        }
      ]
    },
    {
      "cell_type": "code",
      "metadata": {
        "id": "jS6cYaHU8DQa",
        "colab_type": "code",
        "colab": {}
      },
      "source": [
        "stock_df['Change'] = change"
      ],
      "execution_count": 0,
      "outputs": []
    },
    {
      "cell_type": "code",
      "metadata": {
        "id": "LMw4j-_Iegtt",
        "colab_type": "code",
        "colab": {}
      },
      "source": [
        "demo_df['cleanText'] = cleanTweets(demo_df).str.split(\" \")"
      ],
      "execution_count": 0,
      "outputs": []
    },
    {
      "cell_type": "code",
      "metadata": {
        "id": "zJqdN3f2hLAk",
        "colab_type": "code",
        "colab": {}
      },
      "source": [
        "reddit_df['cleanNews'] = cleanArticles(reddit_df['News'])"
      ],
      "execution_count": 0,
      "outputs": []
    },
    {
      "cell_type": "code",
      "metadata": {
        "id": "LnqTqP4Gd2oc",
        "colab_type": "code",
        "outputId": "abf56cdd-df0f-4385-f42c-702502f4e8a3",
        "colab": {
          "base_uri": "https://localhost:8080/",
          "height": 204
        }
      },
      "source": [
        "reddit_df.head()"
      ],
      "execution_count": 0,
      "outputs": [
        {
          "output_type": "execute_result",
          "data": {
            "text/html": [
              "<div>\n",
              "<style scoped>\n",
              "    .dataframe tbody tr th:only-of-type {\n",
              "        vertical-align: middle;\n",
              "    }\n",
              "\n",
              "    .dataframe tbody tr th {\n",
              "        vertical-align: top;\n",
              "    }\n",
              "\n",
              "    .dataframe thead th {\n",
              "        text-align: right;\n",
              "    }\n",
              "</style>\n",
              "<table border=\"1\" class=\"dataframe\">\n",
              "  <thead>\n",
              "    <tr style=\"text-align: right;\">\n",
              "      <th></th>\n",
              "      <th>Date</th>\n",
              "      <th>News</th>\n",
              "      <th>cleanNews</th>\n",
              "    </tr>\n",
              "  </thead>\n",
              "  <tbody>\n",
              "    <tr>\n",
              "      <th>0</th>\n",
              "      <td>2016-07-01</td>\n",
              "      <td>A 117-year-old woman in Mexico City finally re...</td>\n",
              "      <td>[year, old, woman, mexico, citi, final, receiv...</td>\n",
              "    </tr>\n",
              "    <tr>\n",
              "      <th>1</th>\n",
              "      <td>2016-07-01</td>\n",
              "      <td>IMF chief backs Athens as permanent Olympic host</td>\n",
              "      <td>[imf, chief, back, athen, perman, olymp, host]</td>\n",
              "    </tr>\n",
              "    <tr>\n",
              "      <th>2</th>\n",
              "      <td>2016-07-01</td>\n",
              "      <td>The president of France says if Brexit won, so...</td>\n",
              "      <td>[presid, franc, say, brexit, donald, trump]</td>\n",
              "    </tr>\n",
              "    <tr>\n",
              "      <th>3</th>\n",
              "      <td>2016-07-01</td>\n",
              "      <td>British Man Who Must Give Police 24 Hours' Not...</td>\n",
              "      <td>[british, man, must, give, polic, hour, notic,...</td>\n",
              "    </tr>\n",
              "    <tr>\n",
              "      <th>4</th>\n",
              "      <td>2016-07-01</td>\n",
              "      <td>100+ Nobel laureates urge Greenpeace to stop o...</td>\n",
              "      <td>[nobel, laureat, urg, greenpeac, stop, oppos, ...</td>\n",
              "    </tr>\n",
              "  </tbody>\n",
              "</table>\n",
              "</div>"
            ],
            "text/plain": [
              "         Date                                               News  \\\n",
              "0  2016-07-01  A 117-year-old woman in Mexico City finally re...   \n",
              "1  2016-07-01   IMF chief backs Athens as permanent Olympic host   \n",
              "2  2016-07-01  The president of France says if Brexit won, so...   \n",
              "3  2016-07-01  British Man Who Must Give Police 24 Hours' Not...   \n",
              "4  2016-07-01  100+ Nobel laureates urge Greenpeace to stop o...   \n",
              "\n",
              "                                           cleanNews  \n",
              "0  [year, old, woman, mexico, citi, final, receiv...  \n",
              "1     [imf, chief, back, athen, perman, olymp, host]  \n",
              "2        [presid, franc, say, brexit, donald, trump]  \n",
              "3  [british, man, must, give, polic, hour, notic,...  \n",
              "4  [nobel, laureat, urg, greenpeac, stop, oppos, ...  "
            ]
          },
          "metadata": {
            "tags": []
          },
          "execution_count": 16
        }
      ]
    },
    {
      "cell_type": "code",
      "metadata": {
        "id": "HKEctMK9nbK7",
        "colab_type": "code",
        "colab": {}
      },
      "source": [
        "stock_df['Date']=stock_df['Date'].astype(str)"
      ],
      "execution_count": 0,
      "outputs": []
    },
    {
      "cell_type": "code",
      "metadata": {
        "id": "W-kFhbgppraH",
        "colab_type": "code",
        "colab": {}
      },
      "source": [
        "reddit_df = pd.merge(reddit_df, stock_df[['Date', 'Close', 'Change']], on='Date')"
      ],
      "execution_count": 0,
      "outputs": []
    },
    {
      "cell_type": "code",
      "metadata": {
        "id": "AWIjGImrq6P6",
        "colab_type": "code",
        "outputId": "4060c2d6-370f-481a-8a36-94809878422b",
        "colab": {
          "base_uri": "https://localhost:8080/",
          "height": 34
        }
      },
      "source": [
        "stemmer = PorterStemmer()\n",
        "stemmer.stem('employee')"
      ],
      "execution_count": 0,
      "outputs": [
        {
          "output_type": "execute_result",
          "data": {
            "text/plain": [
              "'employe'"
            ]
          },
          "metadata": {
            "tags": []
          },
          "execution_count": 19
        }
      ]
    },
    {
      "cell_type": "code",
      "metadata": {
        "id": "w6mWToJ91U0k",
        "colab_type": "code",
        "colab": {}
      },
      "source": [
        "reddit_df['Date'] = pd.to_datetime(reddit_df['Date'])"
      ],
      "execution_count": 0,
      "outputs": []
    },
    {
      "cell_type": "code",
      "metadata": {
        "id": "GUFnt4un6h0y",
        "colab_type": "code",
        "colab": {}
      },
      "source": [
        "reddit_df = reddit_df.sort_values(by='Date',ascending=False)"
      ],
      "execution_count": 0,
      "outputs": []
    },
    {
      "cell_type": "code",
      "metadata": {
        "id": "VAkbuYGu6t14",
        "colab_type": "code",
        "outputId": "1de266d8-ccef-4ee1-a072-472af9f4b5da",
        "colab": {
          "base_uri": "https://localhost:8080/",
          "height": 204
        }
      },
      "source": [
        "reddit_df.head()"
      ],
      "execution_count": 0,
      "outputs": [
        {
          "output_type": "execute_result",
          "data": {
            "text/html": [
              "<div>\n",
              "<style scoped>\n",
              "    .dataframe tbody tr th:only-of-type {\n",
              "        vertical-align: middle;\n",
              "    }\n",
              "\n",
              "    .dataframe tbody tr th {\n",
              "        vertical-align: top;\n",
              "    }\n",
              "\n",
              "    .dataframe thead th {\n",
              "        text-align: right;\n",
              "    }\n",
              "</style>\n",
              "<table border=\"1\" class=\"dataframe\">\n",
              "  <thead>\n",
              "    <tr style=\"text-align: right;\">\n",
              "      <th></th>\n",
              "      <th>Date</th>\n",
              "      <th>News</th>\n",
              "      <th>cleanNews</th>\n",
              "      <th>Close</th>\n",
              "      <th>Change</th>\n",
              "    </tr>\n",
              "  </thead>\n",
              "  <tbody>\n",
              "    <tr>\n",
              "      <th>0</th>\n",
              "      <td>2016-07-01</td>\n",
              "      <td>A 117-year-old woman in Mexico City finally re...</td>\n",
              "      <td>[year, old, woman, mexico, citi, final, receiv...</td>\n",
              "      <td>17949.369141</td>\n",
              "      <td>1</td>\n",
              "    </tr>\n",
              "    <tr>\n",
              "      <th>13</th>\n",
              "      <td>2016-07-01</td>\n",
              "      <td>Iran celebrates American Human Rights Week, mo...</td>\n",
              "      <td>[iran, celebr, american, human, right, week, m...</td>\n",
              "      <td>17949.369141</td>\n",
              "      <td>1</td>\n",
              "    </tr>\n",
              "    <tr>\n",
              "      <th>1</th>\n",
              "      <td>2016-07-01</td>\n",
              "      <td>IMF chief backs Athens as permanent Olympic host</td>\n",
              "      <td>[imf, chief, back, athen, perman, olymp, host]</td>\n",
              "      <td>17949.369141</td>\n",
              "      <td>1</td>\n",
              "    </tr>\n",
              "    <tr>\n",
              "      <th>24</th>\n",
              "      <td>2016-07-01</td>\n",
              "      <td>Ozone layer hole seems to be healing - US &amp;amp...</td>\n",
              "      <td>[ozon, layer, hole, seem, heal, amp, team, sho...</td>\n",
              "      <td>17949.369141</td>\n",
              "      <td>1</td>\n",
              "    </tr>\n",
              "    <tr>\n",
              "      <th>23</th>\n",
              "      <td>2016-07-01</td>\n",
              "      <td>A Hindu temple worker has been killed by three...</td>\n",
              "      <td>[hindu, templ, worker, kill, three, men, motor...</td>\n",
              "      <td>17949.369141</td>\n",
              "      <td>1</td>\n",
              "    </tr>\n",
              "  </tbody>\n",
              "</table>\n",
              "</div>"
            ],
            "text/plain": [
              "         Date                                               News  \\\n",
              "0  2016-07-01  A 117-year-old woman in Mexico City finally re...   \n",
              "13 2016-07-01  Iran celebrates American Human Rights Week, mo...   \n",
              "1  2016-07-01   IMF chief backs Athens as permanent Olympic host   \n",
              "24 2016-07-01  Ozone layer hole seems to be healing - US &amp...   \n",
              "23 2016-07-01  A Hindu temple worker has been killed by three...   \n",
              "\n",
              "                                            cleanNews         Close  Change  \n",
              "0   [year, old, woman, mexico, citi, final, receiv...  17949.369141       1  \n",
              "13  [iran, celebr, american, human, right, week, m...  17949.369141       1  \n",
              "1      [imf, chief, back, athen, perman, olymp, host]  17949.369141       1  \n",
              "24  [ozon, layer, hole, seem, heal, amp, team, sho...  17949.369141       1  \n",
              "23  [hindu, templ, worker, kill, three, men, motor...  17949.369141       1  "
            ]
          },
          "metadata": {
            "tags": []
          },
          "execution_count": 22
        }
      ]
    },
    {
      "cell_type": "code",
      "metadata": {
        "id": "iI1y3rotApKL",
        "colab_type": "code",
        "outputId": "86afb8be-d9c3-4a9d-e151-5834d7030fb9",
        "colab": {
          "base_uri": "https://localhost:8080/",
          "height": 34
        }
      },
      "source": [
        "(reddit_df['Change']!=0).sum()"
      ],
      "execution_count": 0,
      "outputs": [
        {
          "output_type": "execute_result",
          "data": {
            "text/plain": [
              "24873"
            ]
          },
          "metadata": {
            "tags": []
          },
          "execution_count": 23
        }
      ]
    },
    {
      "cell_type": "code",
      "metadata": {
        "id": "8Mf8D2s7sJb2",
        "colab_type": "code",
        "outputId": "cee00a52-f9fe-4f52-85eb-32aeda5210e1",
        "colab": {
          "base_uri": "https://localhost:8080/",
          "height": 204
        }
      },
      "source": [
        "demo_df['isRetweet']=demo_df['isRetweet'].astype(int)\n",
        "demo_df[['cleanText','isRetweet']].head()"
      ],
      "execution_count": 0,
      "outputs": [
        {
          "output_type": "execute_result",
          "data": {
            "text/html": [
              "<div>\n",
              "<style scoped>\n",
              "    .dataframe tbody tr th:only-of-type {\n",
              "        vertical-align: middle;\n",
              "    }\n",
              "\n",
              "    .dataframe tbody tr th {\n",
              "        vertical-align: top;\n",
              "    }\n",
              "\n",
              "    .dataframe thead th {\n",
              "        text-align: right;\n",
              "    }\n",
              "</style>\n",
              "<table border=\"1\" class=\"dataframe\">\n",
              "  <thead>\n",
              "    <tr style=\"text-align: right;\">\n",
              "      <th></th>\n",
              "      <th>cleanText</th>\n",
              "      <th>isRetweet</th>\n",
              "    </tr>\n",
              "  </thead>\n",
              "  <tbody>\n",
              "    <tr>\n",
              "      <th>0</th>\n",
              "      <td>[critic, question, paytm, inform, about, #demo...</td>\n",
              "      <td>1</td>\n",
              "    </tr>\n",
              "    <tr>\n",
              "      <th>1</th>\n",
              "      <td>[vote, #demonet, modi, survey]</td>\n",
              "      <td>1</td>\n",
              "    </tr>\n",
              "    <tr>\n",
              "      <th>2</th>\n",
              "      <td>[former, finsec, governor, cbdt, chair, harvar...</td>\n",
              "      <td>1</td>\n",
              "    </tr>\n",
              "    <tr>\n",
              "      <th>3</th>\n",
              "      <td>[gurugram, haryana, post, offic, employe, prov...</td>\n",
              "      <td>1</td>\n",
              "    </tr>\n",
              "    <tr>\n",
              "      <th>4</th>\n",
              "      <td>[reddi, wed, cartoon, #demonet, #reddywed, htt...</td>\n",
              "      <td>1</td>\n",
              "    </tr>\n",
              "  </tbody>\n",
              "</table>\n",
              "</div>"
            ],
            "text/plain": [
              "                                           cleanText  isRetweet\n",
              "0  [critic, question, paytm, inform, about, #demo...          1\n",
              "1                     [vote, #demonet, modi, survey]          1\n",
              "2  [former, finsec, governor, cbdt, chair, harvar...          1\n",
              "3  [gurugram, haryana, post, offic, employe, prov...          1\n",
              "4  [reddi, wed, cartoon, #demonet, #reddywed, htt...          1"
            ]
          },
          "metadata": {
            "tags": []
          },
          "execution_count": 24
        }
      ]
    },
    {
      "cell_type": "code",
      "metadata": {
        "id": "tfozpCIOrKk-",
        "colab_type": "code",
        "colab": {}
      },
      "source": [
        "reddit_df[['cleanNews','Change']].to_pickle(directory+'/reddit.pkl')\n",
        "demo_df[['cleanText','isRetweet']].to_pickle(directory+'/demonetisation.pkl')"
      ],
      "execution_count": 0,
      "outputs": []
    },
    {
      "cell_type": "code",
      "metadata": {
        "id": "pcXSdWKMezj-",
        "colab_type": "code",
        "outputId": "2650391a-851e-40ca-8b31-df80504b6449",
        "colab": {
          "base_uri": "https://localhost:8080/",
          "height": 51
        }
      },
      "source": [
        "print(reddit_df.shape[0])\n",
        "print(demo_df.shape[0])"
      ],
      "execution_count": 0,
      "outputs": [
        {
          "output_type": "stream",
          "text": [
            "49718\n",
            "14940\n"
          ],
          "name": "stdout"
        }
      ]
    }
  ]
}